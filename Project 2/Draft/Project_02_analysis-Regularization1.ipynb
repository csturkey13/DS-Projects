{
 "cells": [
  {
   "cell_type": "code",
   "execution_count": 1,
   "metadata": {},
   "outputs": [],
   "source": [
    "import pandas as pd\n",
    "import numpy as np\n",
    "import statsmodels.api as sm\n",
    "import statsmodels.formula.api as smf\n",
    "import patsy\n",
    "\n",
    "import seaborn as sns\n",
    "import matplotlib.pyplot as plt\n",
    "from sklearn.linear_model import LinearRegression\n",
    "from sklearn.linear_model import RidgeCV\n",
    "%matplotlib inline"
   ]
  },
  {
   "cell_type": "code",
   "execution_count": 2,
   "metadata": {},
   "outputs": [
    {
     "name": "stderr",
     "output_type": "stream",
     "text": [
      "/anaconda3/envs/metis/lib/python3.6/site-packages/IPython/core/interactiveshell.py:3058: DtypeWarning: Columns (6,1379,1380,1381,1382,1383,1384,1385,1386,1387,1388,1389,1390,1391,1392,1393,1394,1395,1396,1397,1398,1399,1400,1401,1402,1403,1404,1405,1406,1407,1408,1431,1432,1503,1504,1517,1518,1519,1529,1530,1531,1532,1534,1535,1537,1538,1539,1540,1542,1575,1576,1577,1578,1579,1580,1581,1582,1583,1584,1585,1586,1587,1588,1589,1590,1591,1592,1593,1594,1595,1596,1597,1598,1599,1600,1601,1602,1606,1610,1611,1614,1615,1616,1708,1729,1909,1910,1911,1912,1913) have mixed types. Specify dtype option on import or set low_memory=False.\n",
      "  interactivity=interactivity, compiler=compiler, result=result)\n"
     ]
    }
   ],
   "source": [
    "# Load data\n",
    "df = pd.read_csv('MERGED2016_17_PP.csv')\n",
    "df_endow = pd.read_csv('NCSE2017 Endowment Markets Values for Media--Final January 31 2018.csv')\n",
    "top_50 = pd.read_csv('top_50.csv')"
   ]
  },
  {
   "cell_type": "code",
   "execution_count": 3,
   "metadata": {},
   "outputs": [],
   "source": [
    "df_endow.columns = df_endow.columns.map(str.strip)"
   ]
  },
  {
   "cell_type": "code",
   "execution_count": 4,
   "metadata": {},
   "outputs": [
    {
     "data": {
      "text/plain": [
       "Index(['Rank', 'UNITID', 'Institution Name', 'City', 'State',\n",
       "       'FY2017 Endowment (in $1,000s)', 'FY2016 Endowment (in $1,000s)',\n",
       "       'Change in Market Value (%)2',\n",
       "       'Fall 2016 Full-time Equivalent (FTE) Students3',\n",
       "       'FY2017 Endowment Value per FTE Student ($)', 'IPEDS Sector4',\n",
       "       'IPEDS HBCU Indicator5', 'IPEDS Carnegie Classification6',\n",
       "       'Unnamed: 13', 'Unnamed: 14', 'Unnamed: 15'],\n",
       "      dtype='object')"
      ]
     },
     "execution_count": 4,
     "metadata": {},
     "output_type": "execute_result"
    }
   ],
   "source": [
    "df_endow.columns"
   ]
  },
  {
   "cell_type": "code",
   "execution_count": 5,
   "metadata": {},
   "outputs": [],
   "source": [
    "df = pd.merge(df,df_endow[['UNITID','FY2017 Endowment Value per FTE Student ($)']],on='UNITID', how='left')"
   ]
  },
  {
   "cell_type": "code",
   "execution_count": 6,
   "metadata": {},
   "outputs": [],
   "source": [
    "df = pd.merge(df,top_50[['INSTNM','top_50']],on='INSTNM', how='left')"
   ]
  },
  {
   "cell_type": "code",
   "execution_count": 7,
   "metadata": {},
   "outputs": [
    {
     "data": {
      "text/html": [
       "<div>\n",
       "<style scoped>\n",
       "    .dataframe tbody tr th:only-of-type {\n",
       "        vertical-align: middle;\n",
       "    }\n",
       "\n",
       "    .dataframe tbody tr th {\n",
       "        vertical-align: top;\n",
       "    }\n",
       "\n",
       "    .dataframe thead th {\n",
       "        text-align: right;\n",
       "    }\n",
       "</style>\n",
       "<table border=\"1\" class=\"dataframe\">\n",
       "  <thead>\n",
       "    <tr style=\"text-align: right;\">\n",
       "      <th></th>\n",
       "      <th>UNITID</th>\n",
       "      <th>OPEID</th>\n",
       "      <th>OPEID6</th>\n",
       "      <th>INSTNM</th>\n",
       "      <th>CITY</th>\n",
       "      <th>STABBR</th>\n",
       "      <th>ZIP</th>\n",
       "      <th>ACCREDAGENCY</th>\n",
       "      <th>INSTURL</th>\n",
       "      <th>NPCURL</th>\n",
       "      <th>...</th>\n",
       "      <th>OMENRYP_FULLTIME_POOLED_SUPP</th>\n",
       "      <th>OMENRAP_FULLTIME_POOLED_SUPP</th>\n",
       "      <th>OMAWDP8_FULLTIME_POOLED_SUPP</th>\n",
       "      <th>OMENRUP_FULLTIME_POOLED_SUPP</th>\n",
       "      <th>OMENRYP_PARTTIME_POOLED_SUPP</th>\n",
       "      <th>OMENRAP_PARTTIME_POOLED_SUPP</th>\n",
       "      <th>OMAWDP8_PARTTIME_POOLED_SUPP</th>\n",
       "      <th>OMENRUP_PARTTIME_POOLED_SUPP</th>\n",
       "      <th>FY2017 Endowment Value per FTE Student ($)</th>\n",
       "      <th>top_50</th>\n",
       "    </tr>\n",
       "  </thead>\n",
       "  <tbody>\n",
       "    <tr>\n",
       "      <td>0</td>\n",
       "      <td>100654</td>\n",
       "      <td>100200</td>\n",
       "      <td>1002</td>\n",
       "      <td>Alabama A &amp; M University</td>\n",
       "      <td>Normal</td>\n",
       "      <td>AL</td>\n",
       "      <td>35762</td>\n",
       "      <td>NaN</td>\n",
       "      <td>NaN</td>\n",
       "      <td>NaN</td>\n",
       "      <td>...</td>\n",
       "      <td>NaN</td>\n",
       "      <td>NaN</td>\n",
       "      <td>NaN</td>\n",
       "      <td>NaN</td>\n",
       "      <td>NaN</td>\n",
       "      <td>NaN</td>\n",
       "      <td>NaN</td>\n",
       "      <td>NaN</td>\n",
       "      <td>10416.07</td>\n",
       "      <td>NaN</td>\n",
       "    </tr>\n",
       "    <tr>\n",
       "      <td>1</td>\n",
       "      <td>100663</td>\n",
       "      <td>105200</td>\n",
       "      <td>1052</td>\n",
       "      <td>University of Alabama at Birmingham</td>\n",
       "      <td>Birmingham</td>\n",
       "      <td>AL</td>\n",
       "      <td>35294-0110</td>\n",
       "      <td>NaN</td>\n",
       "      <td>NaN</td>\n",
       "      <td>NaN</td>\n",
       "      <td>...</td>\n",
       "      <td>NaN</td>\n",
       "      <td>NaN</td>\n",
       "      <td>NaN</td>\n",
       "      <td>NaN</td>\n",
       "      <td>NaN</td>\n",
       "      <td>NaN</td>\n",
       "      <td>NaN</td>\n",
       "      <td>NaN</td>\n",
       "      <td>NaN</td>\n",
       "      <td>NaN</td>\n",
       "    </tr>\n",
       "    <tr>\n",
       "      <td>2</td>\n",
       "      <td>100690</td>\n",
       "      <td>2503400</td>\n",
       "      <td>25034</td>\n",
       "      <td>Amridge University</td>\n",
       "      <td>Montgomery</td>\n",
       "      <td>AL</td>\n",
       "      <td>36117-3553</td>\n",
       "      <td>NaN</td>\n",
       "      <td>NaN</td>\n",
       "      <td>NaN</td>\n",
       "      <td>...</td>\n",
       "      <td>NaN</td>\n",
       "      <td>NaN</td>\n",
       "      <td>NaN</td>\n",
       "      <td>NaN</td>\n",
       "      <td>NaN</td>\n",
       "      <td>NaN</td>\n",
       "      <td>NaN</td>\n",
       "      <td>NaN</td>\n",
       "      <td>NaN</td>\n",
       "      <td>NaN</td>\n",
       "    </tr>\n",
       "    <tr>\n",
       "      <td>3</td>\n",
       "      <td>100706</td>\n",
       "      <td>105500</td>\n",
       "      <td>1055</td>\n",
       "      <td>University of Alabama in Huntsville</td>\n",
       "      <td>Huntsville</td>\n",
       "      <td>AL</td>\n",
       "      <td>35899</td>\n",
       "      <td>NaN</td>\n",
       "      <td>NaN</td>\n",
       "      <td>NaN</td>\n",
       "      <td>...</td>\n",
       "      <td>NaN</td>\n",
       "      <td>NaN</td>\n",
       "      <td>NaN</td>\n",
       "      <td>NaN</td>\n",
       "      <td>NaN</td>\n",
       "      <td>NaN</td>\n",
       "      <td>NaN</td>\n",
       "      <td>NaN</td>\n",
       "      <td>NaN</td>\n",
       "      <td>NaN</td>\n",
       "    </tr>\n",
       "    <tr>\n",
       "      <td>4</td>\n",
       "      <td>100724</td>\n",
       "      <td>100500</td>\n",
       "      <td>1005</td>\n",
       "      <td>Alabama State University</td>\n",
       "      <td>Montgomery</td>\n",
       "      <td>AL</td>\n",
       "      <td>36104-0271</td>\n",
       "      <td>NaN</td>\n",
       "      <td>NaN</td>\n",
       "      <td>NaN</td>\n",
       "      <td>...</td>\n",
       "      <td>NaN</td>\n",
       "      <td>NaN</td>\n",
       "      <td>NaN</td>\n",
       "      <td>NaN</td>\n",
       "      <td>NaN</td>\n",
       "      <td>NaN</td>\n",
       "      <td>NaN</td>\n",
       "      <td>NaN</td>\n",
       "      <td>NaN</td>\n",
       "      <td>NaN</td>\n",
       "    </tr>\n",
       "  </tbody>\n",
       "</table>\n",
       "<p>5 rows × 1979 columns</p>\n",
       "</div>"
      ],
      "text/plain": [
       "   UNITID    OPEID  OPEID6                               INSTNM        CITY  \\\n",
       "0  100654   100200    1002             Alabama A & M University      Normal   \n",
       "1  100663   105200    1052  University of Alabama at Birmingham  Birmingham   \n",
       "2  100690  2503400   25034                   Amridge University  Montgomery   \n",
       "3  100706   105500    1055  University of Alabama in Huntsville  Huntsville   \n",
       "4  100724   100500    1005             Alabama State University  Montgomery   \n",
       "\n",
       "  STABBR         ZIP  ACCREDAGENCY  INSTURL  NPCURL  ...  \\\n",
       "0     AL       35762           NaN      NaN     NaN  ...   \n",
       "1     AL  35294-0110           NaN      NaN     NaN  ...   \n",
       "2     AL  36117-3553           NaN      NaN     NaN  ...   \n",
       "3     AL       35899           NaN      NaN     NaN  ...   \n",
       "4     AL  36104-0271           NaN      NaN     NaN  ...   \n",
       "\n",
       "   OMENRYP_FULLTIME_POOLED_SUPP  OMENRAP_FULLTIME_POOLED_SUPP  \\\n",
       "0                           NaN                           NaN   \n",
       "1                           NaN                           NaN   \n",
       "2                           NaN                           NaN   \n",
       "3                           NaN                           NaN   \n",
       "4                           NaN                           NaN   \n",
       "\n",
       "   OMAWDP8_FULLTIME_POOLED_SUPP  OMENRUP_FULLTIME_POOLED_SUPP  \\\n",
       "0                           NaN                           NaN   \n",
       "1                           NaN                           NaN   \n",
       "2                           NaN                           NaN   \n",
       "3                           NaN                           NaN   \n",
       "4                           NaN                           NaN   \n",
       "\n",
       "   OMENRYP_PARTTIME_POOLED_SUPP  OMENRAP_PARTTIME_POOLED_SUPP  \\\n",
       "0                           NaN                           NaN   \n",
       "1                           NaN                           NaN   \n",
       "2                           NaN                           NaN   \n",
       "3                           NaN                           NaN   \n",
       "4                           NaN                           NaN   \n",
       "\n",
       "   OMAWDP8_PARTTIME_POOLED_SUPP  OMENRUP_PARTTIME_POOLED_SUPP  \\\n",
       "0                           NaN                           NaN   \n",
       "1                           NaN                           NaN   \n",
       "2                           NaN                           NaN   \n",
       "3                           NaN                           NaN   \n",
       "4                           NaN                           NaN   \n",
       "\n",
       "   FY2017 Endowment Value per FTE Student ($)  top_50  \n",
       "0                                    10416.07     NaN  \n",
       "1                                         NaN     NaN  \n",
       "2                                         NaN     NaN  \n",
       "3                                         NaN     NaN  \n",
       "4                                         NaN     NaN  \n",
       "\n",
       "[5 rows x 1979 columns]"
      ]
     },
     "execution_count": 7,
     "metadata": {},
     "output_type": "execute_result"
    }
   ],
   "source": [
    "df.head()"
   ]
  },
  {
   "cell_type": "code",
   "execution_count": 8,
   "metadata": {},
   "outputs": [
    {
     "name": "stdout",
     "output_type": "stream",
     "text": [
      "<class 'pandas.core.frame.DataFrame'>\n",
      "Int64Index: 7175 entries, 0 to 7174\n",
      "Columns: 1979 entries, UNITID to top_50\n",
      "dtypes: float64(1778), int64(11), object(190)\n",
      "memory usage: 108.4+ MB\n"
     ]
    }
   ],
   "source": [
    "df.info()"
   ]
  },
  {
   "cell_type": "code",
   "execution_count": 9,
   "metadata": {},
   "outputs": [
    {
     "data": {
      "text/plain": [
       "Index(['UNITID', 'OPEID', 'OPEID6', 'INSTNM', 'CITY', 'STABBR', 'ZIP',\n",
       "       'ACCREDAGENCY', 'INSTURL', 'NPCURL',\n",
       "       ...\n",
       "       'OMENRYP_FULLTIME_POOLED_SUPP', 'OMENRAP_FULLTIME_POOLED_SUPP',\n",
       "       'OMAWDP8_FULLTIME_POOLED_SUPP', 'OMENRUP_FULLTIME_POOLED_SUPP',\n",
       "       'OMENRYP_PARTTIME_POOLED_SUPP', 'OMENRAP_PARTTIME_POOLED_SUPP',\n",
       "       'OMAWDP8_PARTTIME_POOLED_SUPP', 'OMENRUP_PARTTIME_POOLED_SUPP',\n",
       "       'FY2017 Endowment Value per FTE Student ($)', 'top_50'],\n",
       "      dtype='object', length=1979)"
      ]
     },
     "execution_count": 9,
     "metadata": {},
     "output_type": "execute_result"
    }
   ],
   "source": [
    "df.columns"
   ]
  },
  {
   "cell_type": "code",
   "execution_count": 10,
   "metadata": {},
   "outputs": [
    {
     "data": {
      "text/plain": [
       "Index(['UNITID', 'OPEID', 'OPEID6', 'INSTNM', 'CITY', 'STABBR', 'ZIP',\n",
       "       'ACCREDAGENCY', 'INSTURL', 'NPCURL',\n",
       "       ...\n",
       "       'OMENRYP_FULLTIME_POOLED_SUPP', 'OMENRAP_FULLTIME_POOLED_SUPP',\n",
       "       'OMAWDP8_FULLTIME_POOLED_SUPP', 'OMENRUP_FULLTIME_POOLED_SUPP',\n",
       "       'OMENRYP_PARTTIME_POOLED_SUPP', 'OMENRAP_PARTTIME_POOLED_SUPP',\n",
       "       'OMAWDP8_PARTTIME_POOLED_SUPP', 'OMENRUP_PARTTIME_POOLED_SUPP',\n",
       "       'FY2017 Endowment Value per FTE Student ($)', 'top_50'],\n",
       "      dtype='object', length=1979)"
      ]
     },
     "execution_count": 10,
     "metadata": {},
     "output_type": "execute_result"
    }
   ],
   "source": [
    "#Strip any spaces in column names\n",
    "df.columns = df.columns.map(str.strip)\n",
    "df.columns"
   ]
  },
  {
   "cell_type": "code",
   "execution_count": 11,
   "metadata": {},
   "outputs": [
    {
     "data": {
      "text/plain": [
       "(7175, 1979)"
      ]
     },
     "execution_count": 11,
     "metadata": {},
     "output_type": "execute_result"
    }
   ],
   "source": [
    "df.shape"
   ]
  },
  {
   "cell_type": "code",
   "execution_count": 12,
   "metadata": {},
   "outputs": [],
   "source": [
    "subset=['INSTNM','STABBR','ADM_RATE_ALL',\n",
    "        'ICLEVEL','PCTPELL','AGE_ENTRY','FIRST-GEN','PCIP42',\n",
    "        'PCIP04','PCIP13','PCIP15','PCIP22','PCIP27','PCIP41','PCIP50','PCIP51','NPT4_PUB',\n",
    "        'PCIP52','TUITIONFEE_IN','TUITIONFEE_OUT','SAT_AVG_ALL','PAR_ED_PCT_1STGEN','DEBT_MDN','FY2017 Endowment Value per FTE Student ($)','top_50']\n",
    "\n",
    "loan_df = df.filter(subset, axis=1)"
   ]
  },
  {
   "cell_type": "code",
   "execution_count": 13,
   "metadata": {
    "scrolled": true
   },
   "outputs": [
    {
     "data": {
      "text/plain": [
       "(7175, 24)"
      ]
     },
     "execution_count": 13,
     "metadata": {},
     "output_type": "execute_result"
    }
   ],
   "source": [
    "loan_df.shape"
   ]
  },
  {
   "cell_type": "code",
   "execution_count": 14,
   "metadata": {},
   "outputs": [
    {
     "data": {
      "text/html": [
       "<div>\n",
       "<style scoped>\n",
       "    .dataframe tbody tr th:only-of-type {\n",
       "        vertical-align: middle;\n",
       "    }\n",
       "\n",
       "    .dataframe tbody tr th {\n",
       "        vertical-align: top;\n",
       "    }\n",
       "\n",
       "    .dataframe thead th {\n",
       "        text-align: right;\n",
       "    }\n",
       "</style>\n",
       "<table border=\"1\" class=\"dataframe\">\n",
       "  <thead>\n",
       "    <tr style=\"text-align: right;\">\n",
       "      <th></th>\n",
       "      <th>INSTNM</th>\n",
       "      <th>STABBR</th>\n",
       "      <th>ADM_RATE_ALL</th>\n",
       "      <th>ICLEVEL</th>\n",
       "      <th>PCTPELL</th>\n",
       "      <th>AGE_ENTRY</th>\n",
       "      <th>PCIP42</th>\n",
       "      <th>PCIP04</th>\n",
       "      <th>PCIP13</th>\n",
       "      <th>PCIP15</th>\n",
       "      <th>...</th>\n",
       "      <th>PCIP51</th>\n",
       "      <th>NPT4_PUB</th>\n",
       "      <th>PCIP52</th>\n",
       "      <th>TUITIONFEE_IN</th>\n",
       "      <th>TUITIONFEE_OUT</th>\n",
       "      <th>SAT_AVG_ALL</th>\n",
       "      <th>PAR_ED_PCT_1STGEN</th>\n",
       "      <th>DEBT_MDN</th>\n",
       "      <th>FY2017 Endowment Value per FTE Student ($)</th>\n",
       "      <th>top_50</th>\n",
       "    </tr>\n",
       "  </thead>\n",
       "  <tbody>\n",
       "    <tr>\n",
       "      <td>0</td>\n",
       "      <td>Alabama A &amp; M University</td>\n",
       "      <td>AL</td>\n",
       "      <td>0.873775</td>\n",
       "      <td>1</td>\n",
       "      <td>0.7039</td>\n",
       "      <td>20.283741368</td>\n",
       "      <td>0.0472</td>\n",
       "      <td>0.0071</td>\n",
       "      <td>0.1132</td>\n",
       "      <td>0.0472</td>\n",
       "      <td>...</td>\n",
       "      <td>0.0000</td>\n",
       "      <td>15567.0</td>\n",
       "      <td>0.1863</td>\n",
       "      <td>9366.0</td>\n",
       "      <td>17496.0</td>\n",
       "      <td>849.0</td>\n",
       "      <td>0.3658280922</td>\n",
       "      <td>13246</td>\n",
       "      <td>10416.07</td>\n",
       "      <td>NaN</td>\n",
       "    </tr>\n",
       "    <tr>\n",
       "      <td>1</td>\n",
       "      <td>University of Alabama at Birmingham</td>\n",
       "      <td>AL</td>\n",
       "      <td>0.581351</td>\n",
       "      <td>1</td>\n",
       "      <td>0.3525</td>\n",
       "      <td>23.60797466</td>\n",
       "      <td>0.0766</td>\n",
       "      <td>0.0000</td>\n",
       "      <td>0.0748</td>\n",
       "      <td>0.0000</td>\n",
       "      <td>...</td>\n",
       "      <td>0.2500</td>\n",
       "      <td>16475.0</td>\n",
       "      <td>0.2072</td>\n",
       "      <td>8040.0</td>\n",
       "      <td>18368.0</td>\n",
       "      <td>1125.0</td>\n",
       "      <td>0.341223671</td>\n",
       "      <td>14979.5</td>\n",
       "      <td>NaN</td>\n",
       "      <td>NaN</td>\n",
       "    </tr>\n",
       "    <tr>\n",
       "      <td>2</td>\n",
       "      <td>Amridge University</td>\n",
       "      <td>AL</td>\n",
       "      <td>NaN</td>\n",
       "      <td>1</td>\n",
       "      <td>0.6971</td>\n",
       "      <td>33.672297297</td>\n",
       "      <td>0.0000</td>\n",
       "      <td>0.0000</td>\n",
       "      <td>0.0000</td>\n",
       "      <td>0.0000</td>\n",
       "      <td>...</td>\n",
       "      <td>0.0000</td>\n",
       "      <td>NaN</td>\n",
       "      <td>0.3556</td>\n",
       "      <td>7180.0</td>\n",
       "      <td>7180.0</td>\n",
       "      <td>NaN</td>\n",
       "      <td>0.5125</td>\n",
       "      <td>10430</td>\n",
       "      <td>NaN</td>\n",
       "      <td>NaN</td>\n",
       "    </tr>\n",
       "    <tr>\n",
       "      <td>3</td>\n",
       "      <td>University of Alabama in Huntsville</td>\n",
       "      <td>AL</td>\n",
       "      <td>0.762816</td>\n",
       "      <td>1</td>\n",
       "      <td>0.2949</td>\n",
       "      <td>22.727919632</td>\n",
       "      <td>0.0160</td>\n",
       "      <td>0.0000</td>\n",
       "      <td>0.0282</td>\n",
       "      <td>0.0000</td>\n",
       "      <td>...</td>\n",
       "      <td>0.1911</td>\n",
       "      <td>19423.0</td>\n",
       "      <td>0.2250</td>\n",
       "      <td>9842.0</td>\n",
       "      <td>20612.0</td>\n",
       "      <td>1257.0</td>\n",
       "      <td>0.3101321586</td>\n",
       "      <td>13522</td>\n",
       "      <td>NaN</td>\n",
       "      <td>NaN</td>\n",
       "    </tr>\n",
       "    <tr>\n",
       "      <td>4</td>\n",
       "      <td>Alabama State University</td>\n",
       "      <td>AL</td>\n",
       "      <td>0.458964</td>\n",
       "      <td>1</td>\n",
       "      <td>0.7815</td>\n",
       "      <td>20.130990415</td>\n",
       "      <td>0.0503</td>\n",
       "      <td>0.0000</td>\n",
       "      <td>0.1364</td>\n",
       "      <td>0.0000</td>\n",
       "      <td>...</td>\n",
       "      <td>0.1429</td>\n",
       "      <td>15037.0</td>\n",
       "      <td>0.0974</td>\n",
       "      <td>9220.0</td>\n",
       "      <td>16156.0</td>\n",
       "      <td>825.0</td>\n",
       "      <td>0.3434343434</td>\n",
       "      <td>15738</td>\n",
       "      <td>NaN</td>\n",
       "      <td>NaN</td>\n",
       "    </tr>\n",
       "  </tbody>\n",
       "</table>\n",
       "<p>5 rows × 24 columns</p>\n",
       "</div>"
      ],
      "text/plain": [
       "                                INSTNM STABBR  ADM_RATE_ALL  ICLEVEL  PCTPELL  \\\n",
       "0             Alabama A & M University     AL      0.873775        1   0.7039   \n",
       "1  University of Alabama at Birmingham     AL      0.581351        1   0.3525   \n",
       "2                   Amridge University     AL           NaN        1   0.6971   \n",
       "3  University of Alabama in Huntsville     AL      0.762816        1   0.2949   \n",
       "4             Alabama State University     AL      0.458964        1   0.7815   \n",
       "\n",
       "      AGE_ENTRY  PCIP42  PCIP04  PCIP13  PCIP15  ...  PCIP51  NPT4_PUB  \\\n",
       "0  20.283741368  0.0472  0.0071  0.1132  0.0472  ...  0.0000   15567.0   \n",
       "1   23.60797466  0.0766  0.0000  0.0748  0.0000  ...  0.2500   16475.0   \n",
       "2  33.672297297  0.0000  0.0000  0.0000  0.0000  ...  0.0000       NaN   \n",
       "3  22.727919632  0.0160  0.0000  0.0282  0.0000  ...  0.1911   19423.0   \n",
       "4  20.130990415  0.0503  0.0000  0.1364  0.0000  ...  0.1429   15037.0   \n",
       "\n",
       "   PCIP52  TUITIONFEE_IN  TUITIONFEE_OUT  SAT_AVG_ALL  PAR_ED_PCT_1STGEN  \\\n",
       "0  0.1863         9366.0         17496.0        849.0       0.3658280922   \n",
       "1  0.2072         8040.0         18368.0       1125.0        0.341223671   \n",
       "2  0.3556         7180.0          7180.0          NaN             0.5125   \n",
       "3  0.2250         9842.0         20612.0       1257.0       0.3101321586   \n",
       "4  0.0974         9220.0         16156.0        825.0       0.3434343434   \n",
       "\n",
       "   DEBT_MDN  FY2017 Endowment Value per FTE Student ($)  top_50  \n",
       "0     13246                                    10416.07     NaN  \n",
       "1   14979.5                                         NaN     NaN  \n",
       "2     10430                                         NaN     NaN  \n",
       "3     13522                                         NaN     NaN  \n",
       "4     15738                                         NaN     NaN  \n",
       "\n",
       "[5 rows x 24 columns]"
      ]
     },
     "execution_count": 14,
     "metadata": {},
     "output_type": "execute_result"
    }
   ],
   "source": [
    "loan_df.head()"
   ]
  },
  {
   "cell_type": "code",
   "execution_count": 15,
   "metadata": {},
   "outputs": [],
   "source": [
    "#Taking values in the public column and turning into a boolean, 1 for public and 0 for private\n",
    "loan_df['NPT4_PUB'] = loan_df['NPT4_PUB'].where(loan_df['NPT4_PUB'].isnull(), 1).fillna(0).astype(int)"
   ]
  },
  {
   "cell_type": "code",
   "execution_count": 16,
   "metadata": {},
   "outputs": [],
   "source": [
    "#renmaing percentage of degrees awarded in a few subjects and Endowment\n",
    "loan_df.rename(\n",
    "    inplace=True,\n",
    "    columns={\n",
    "        'PCIP42': 'PCPSYCH',\n",
    "        'PCIP04': \"PCARCH\",\n",
    "        'PCIP13': 'PCEDU',\n",
    "        'PCIP15': 'PCENG_TECH',\n",
    "        'PCIP22': 'PCLEGAL',\n",
    "        'PCIP27': 'PCMATH',\n",
    "        'PCIP41': 'PCSCI',\n",
    "        'PCIP50': 'PCART',\n",
    "        'PCIP51': 'PCHEALTH',\n",
    "        'PCIP52': 'PCBUS',\n",
    "        'NPT4_PUB':'PUB_PRIV',\n",
    "        'FY2017 Endowment Value per FTE Student ($)': 'ENDOWSTUD'\n",
    "    })"
   ]
  },
  {
   "cell_type": "code",
   "execution_count": 17,
   "metadata": {},
   "outputs": [
    {
     "data": {
      "text/html": [
       "<div>\n",
       "<style scoped>\n",
       "    .dataframe tbody tr th:only-of-type {\n",
       "        vertical-align: middle;\n",
       "    }\n",
       "\n",
       "    .dataframe tbody tr th {\n",
       "        vertical-align: top;\n",
       "    }\n",
       "\n",
       "    .dataframe thead th {\n",
       "        text-align: right;\n",
       "    }\n",
       "</style>\n",
       "<table border=\"1\" class=\"dataframe\">\n",
       "  <thead>\n",
       "    <tr style=\"text-align: right;\">\n",
       "      <th></th>\n",
       "      <th>INSTNM</th>\n",
       "      <th>STABBR</th>\n",
       "      <th>ADM_RATE_ALL</th>\n",
       "      <th>ICLEVEL</th>\n",
       "      <th>PCTPELL</th>\n",
       "      <th>AGE_ENTRY</th>\n",
       "      <th>PCPSYCH</th>\n",
       "      <th>PCARCH</th>\n",
       "      <th>PCEDU</th>\n",
       "      <th>PCENG_TECH</th>\n",
       "      <th>...</th>\n",
       "      <th>PCHEALTH</th>\n",
       "      <th>PUB_PRIV</th>\n",
       "      <th>PCBUS</th>\n",
       "      <th>TUITIONFEE_IN</th>\n",
       "      <th>TUITIONFEE_OUT</th>\n",
       "      <th>SAT_AVG_ALL</th>\n",
       "      <th>PAR_ED_PCT_1STGEN</th>\n",
       "      <th>DEBT_MDN</th>\n",
       "      <th>ENDOWSTUD</th>\n",
       "      <th>top_50</th>\n",
       "    </tr>\n",
       "  </thead>\n",
       "  <tbody>\n",
       "    <tr>\n",
       "      <td>0</td>\n",
       "      <td>Alabama A &amp; M University</td>\n",
       "      <td>AL</td>\n",
       "      <td>0.873775</td>\n",
       "      <td>1</td>\n",
       "      <td>0.7039</td>\n",
       "      <td>20.283741368</td>\n",
       "      <td>0.0472</td>\n",
       "      <td>0.0071</td>\n",
       "      <td>0.1132</td>\n",
       "      <td>0.0472</td>\n",
       "      <td>...</td>\n",
       "      <td>0.0000</td>\n",
       "      <td>1</td>\n",
       "      <td>0.1863</td>\n",
       "      <td>9366.0</td>\n",
       "      <td>17496.0</td>\n",
       "      <td>849.0</td>\n",
       "      <td>0.3658280922</td>\n",
       "      <td>13246</td>\n",
       "      <td>10416.07</td>\n",
       "      <td>NaN</td>\n",
       "    </tr>\n",
       "    <tr>\n",
       "      <td>1</td>\n",
       "      <td>University of Alabama at Birmingham</td>\n",
       "      <td>AL</td>\n",
       "      <td>0.581351</td>\n",
       "      <td>1</td>\n",
       "      <td>0.3525</td>\n",
       "      <td>23.60797466</td>\n",
       "      <td>0.0766</td>\n",
       "      <td>0.0000</td>\n",
       "      <td>0.0748</td>\n",
       "      <td>0.0000</td>\n",
       "      <td>...</td>\n",
       "      <td>0.2500</td>\n",
       "      <td>1</td>\n",
       "      <td>0.2072</td>\n",
       "      <td>8040.0</td>\n",
       "      <td>18368.0</td>\n",
       "      <td>1125.0</td>\n",
       "      <td>0.341223671</td>\n",
       "      <td>14979.5</td>\n",
       "      <td>NaN</td>\n",
       "      <td>NaN</td>\n",
       "    </tr>\n",
       "    <tr>\n",
       "      <td>2</td>\n",
       "      <td>Amridge University</td>\n",
       "      <td>AL</td>\n",
       "      <td>NaN</td>\n",
       "      <td>1</td>\n",
       "      <td>0.6971</td>\n",
       "      <td>33.672297297</td>\n",
       "      <td>0.0000</td>\n",
       "      <td>0.0000</td>\n",
       "      <td>0.0000</td>\n",
       "      <td>0.0000</td>\n",
       "      <td>...</td>\n",
       "      <td>0.0000</td>\n",
       "      <td>0</td>\n",
       "      <td>0.3556</td>\n",
       "      <td>7180.0</td>\n",
       "      <td>7180.0</td>\n",
       "      <td>NaN</td>\n",
       "      <td>0.5125</td>\n",
       "      <td>10430</td>\n",
       "      <td>NaN</td>\n",
       "      <td>NaN</td>\n",
       "    </tr>\n",
       "    <tr>\n",
       "      <td>3</td>\n",
       "      <td>University of Alabama in Huntsville</td>\n",
       "      <td>AL</td>\n",
       "      <td>0.762816</td>\n",
       "      <td>1</td>\n",
       "      <td>0.2949</td>\n",
       "      <td>22.727919632</td>\n",
       "      <td>0.0160</td>\n",
       "      <td>0.0000</td>\n",
       "      <td>0.0282</td>\n",
       "      <td>0.0000</td>\n",
       "      <td>...</td>\n",
       "      <td>0.1911</td>\n",
       "      <td>1</td>\n",
       "      <td>0.2250</td>\n",
       "      <td>9842.0</td>\n",
       "      <td>20612.0</td>\n",
       "      <td>1257.0</td>\n",
       "      <td>0.3101321586</td>\n",
       "      <td>13522</td>\n",
       "      <td>NaN</td>\n",
       "      <td>NaN</td>\n",
       "    </tr>\n",
       "    <tr>\n",
       "      <td>4</td>\n",
       "      <td>Alabama State University</td>\n",
       "      <td>AL</td>\n",
       "      <td>0.458964</td>\n",
       "      <td>1</td>\n",
       "      <td>0.7815</td>\n",
       "      <td>20.130990415</td>\n",
       "      <td>0.0503</td>\n",
       "      <td>0.0000</td>\n",
       "      <td>0.1364</td>\n",
       "      <td>0.0000</td>\n",
       "      <td>...</td>\n",
       "      <td>0.1429</td>\n",
       "      <td>1</td>\n",
       "      <td>0.0974</td>\n",
       "      <td>9220.0</td>\n",
       "      <td>16156.0</td>\n",
       "      <td>825.0</td>\n",
       "      <td>0.3434343434</td>\n",
       "      <td>15738</td>\n",
       "      <td>NaN</td>\n",
       "      <td>NaN</td>\n",
       "    </tr>\n",
       "    <tr>\n",
       "      <td>5</td>\n",
       "      <td>The University of Alabama</td>\n",
       "      <td>AL</td>\n",
       "      <td>0.525852</td>\n",
       "      <td>1</td>\n",
       "      <td>0.1938</td>\n",
       "      <td>21.137701396</td>\n",
       "      <td>0.0360</td>\n",
       "      <td>0.0000</td>\n",
       "      <td>0.0782</td>\n",
       "      <td>0.0000</td>\n",
       "      <td>...</td>\n",
       "      <td>0.0988</td>\n",
       "      <td>1</td>\n",
       "      <td>0.2879</td>\n",
       "      <td>10470.0</td>\n",
       "      <td>26950.0</td>\n",
       "      <td>1202.0</td>\n",
       "      <td>0.2257126887</td>\n",
       "      <td>17340</td>\n",
       "      <td>NaN</td>\n",
       "      <td>NaN</td>\n",
       "    </tr>\n",
       "    <tr>\n",
       "      <td>6</td>\n",
       "      <td>Central Alabama Community College</td>\n",
       "      <td>AL</td>\n",
       "      <td>NaN</td>\n",
       "      <td>2</td>\n",
       "      <td>0.5109</td>\n",
       "      <td>23.071028037</td>\n",
       "      <td>0.0000</td>\n",
       "      <td>0.0000</td>\n",
       "      <td>0.0000</td>\n",
       "      <td>0.1025</td>\n",
       "      <td>...</td>\n",
       "      <td>0.1209</td>\n",
       "      <td>1</td>\n",
       "      <td>0.0861</td>\n",
       "      <td>4380.0</td>\n",
       "      <td>7890.0</td>\n",
       "      <td>NaN</td>\n",
       "      <td>0.5496760259</td>\n",
       "      <td>5764</td>\n",
       "      <td>NaN</td>\n",
       "      <td>NaN</td>\n",
       "    </tr>\n",
       "    <tr>\n",
       "      <td>7</td>\n",
       "      <td>Athens State University</td>\n",
       "      <td>AL</td>\n",
       "      <td>NaN</td>\n",
       "      <td>1</td>\n",
       "      <td>0.4219</td>\n",
       "      <td>30.384765625</td>\n",
       "      <td>0.0308</td>\n",
       "      <td>0.0000</td>\n",
       "      <td>0.2192</td>\n",
       "      <td>0.0000</td>\n",
       "      <td>...</td>\n",
       "      <td>0.0064</td>\n",
       "      <td>0</td>\n",
       "      <td>0.4449</td>\n",
       "      <td>NaN</td>\n",
       "      <td>NaN</td>\n",
       "      <td>NaN</td>\n",
       "      <td>0.4774964838</td>\n",
       "      <td>13461</td>\n",
       "      <td>NaN</td>\n",
       "      <td>NaN</td>\n",
       "    </tr>\n",
       "    <tr>\n",
       "      <td>8</td>\n",
       "      <td>Auburn University at Montgomery</td>\n",
       "      <td>AL</td>\n",
       "      <td>0.765921</td>\n",
       "      <td>1</td>\n",
       "      <td>0.4405</td>\n",
       "      <td>22.199804114</td>\n",
       "      <td>0.0668</td>\n",
       "      <td>0.0000</td>\n",
       "      <td>0.0584</td>\n",
       "      <td>0.0000</td>\n",
       "      <td>...</td>\n",
       "      <td>0.2621</td>\n",
       "      <td>1</td>\n",
       "      <td>0.2705</td>\n",
       "      <td>9640.0</td>\n",
       "      <td>20710.0</td>\n",
       "      <td>1009.0</td>\n",
       "      <td>0.38189609</td>\n",
       "      <td>10750</td>\n",
       "      <td>NaN</td>\n",
       "      <td>NaN</td>\n",
       "    </tr>\n",
       "    <tr>\n",
       "      <td>9</td>\n",
       "      <td>Auburn University</td>\n",
       "      <td>AL</td>\n",
       "      <td>0.805434</td>\n",
       "      <td>1</td>\n",
       "      <td>0.1532</td>\n",
       "      <td>20.516795866</td>\n",
       "      <td>0.0330</td>\n",
       "      <td>0.0226</td>\n",
       "      <td>0.0941</td>\n",
       "      <td>0.0000</td>\n",
       "      <td>...</td>\n",
       "      <td>0.0667</td>\n",
       "      <td>1</td>\n",
       "      <td>0.2113</td>\n",
       "      <td>10696.0</td>\n",
       "      <td>28840.0</td>\n",
       "      <td>1217.0</td>\n",
       "      <td>0.1726471191</td>\n",
       "      <td>17000</td>\n",
       "      <td>29092.46</td>\n",
       "      <td>NaN</td>\n",
       "    </tr>\n",
       "  </tbody>\n",
       "</table>\n",
       "<p>10 rows × 24 columns</p>\n",
       "</div>"
      ],
      "text/plain": [
       "                                INSTNM STABBR  ADM_RATE_ALL  ICLEVEL  PCTPELL  \\\n",
       "0             Alabama A & M University     AL      0.873775        1   0.7039   \n",
       "1  University of Alabama at Birmingham     AL      0.581351        1   0.3525   \n",
       "2                   Amridge University     AL           NaN        1   0.6971   \n",
       "3  University of Alabama in Huntsville     AL      0.762816        1   0.2949   \n",
       "4             Alabama State University     AL      0.458964        1   0.7815   \n",
       "5            The University of Alabama     AL      0.525852        1   0.1938   \n",
       "6    Central Alabama Community College     AL           NaN        2   0.5109   \n",
       "7              Athens State University     AL           NaN        1   0.4219   \n",
       "8      Auburn University at Montgomery     AL      0.765921        1   0.4405   \n",
       "9                    Auburn University     AL      0.805434        1   0.1532   \n",
       "\n",
       "      AGE_ENTRY  PCPSYCH  PCARCH   PCEDU  PCENG_TECH  ...  PCHEALTH  PUB_PRIV  \\\n",
       "0  20.283741368   0.0472  0.0071  0.1132      0.0472  ...    0.0000         1   \n",
       "1   23.60797466   0.0766  0.0000  0.0748      0.0000  ...    0.2500         1   \n",
       "2  33.672297297   0.0000  0.0000  0.0000      0.0000  ...    0.0000         0   \n",
       "3  22.727919632   0.0160  0.0000  0.0282      0.0000  ...    0.1911         1   \n",
       "4  20.130990415   0.0503  0.0000  0.1364      0.0000  ...    0.1429         1   \n",
       "5  21.137701396   0.0360  0.0000  0.0782      0.0000  ...    0.0988         1   \n",
       "6  23.071028037   0.0000  0.0000  0.0000      0.1025  ...    0.1209         1   \n",
       "7  30.384765625   0.0308  0.0000  0.2192      0.0000  ...    0.0064         0   \n",
       "8  22.199804114   0.0668  0.0000  0.0584      0.0000  ...    0.2621         1   \n",
       "9  20.516795866   0.0330  0.0226  0.0941      0.0000  ...    0.0667         1   \n",
       "\n",
       "    PCBUS  TUITIONFEE_IN  TUITIONFEE_OUT  SAT_AVG_ALL  PAR_ED_PCT_1STGEN  \\\n",
       "0  0.1863         9366.0         17496.0        849.0       0.3658280922   \n",
       "1  0.2072         8040.0         18368.0       1125.0        0.341223671   \n",
       "2  0.3556         7180.0          7180.0          NaN             0.5125   \n",
       "3  0.2250         9842.0         20612.0       1257.0       0.3101321586   \n",
       "4  0.0974         9220.0         16156.0        825.0       0.3434343434   \n",
       "5  0.2879        10470.0         26950.0       1202.0       0.2257126887   \n",
       "6  0.0861         4380.0          7890.0          NaN       0.5496760259   \n",
       "7  0.4449            NaN             NaN          NaN       0.4774964838   \n",
       "8  0.2705         9640.0         20710.0       1009.0         0.38189609   \n",
       "9  0.2113        10696.0         28840.0       1217.0       0.1726471191   \n",
       "\n",
       "   DEBT_MDN  ENDOWSTUD  top_50  \n",
       "0     13246   10416.07     NaN  \n",
       "1   14979.5        NaN     NaN  \n",
       "2     10430        NaN     NaN  \n",
       "3     13522        NaN     NaN  \n",
       "4     15738        NaN     NaN  \n",
       "5     17340        NaN     NaN  \n",
       "6      5764        NaN     NaN  \n",
       "7     13461        NaN     NaN  \n",
       "8     10750        NaN     NaN  \n",
       "9     17000   29092.46     NaN  \n",
       "\n",
       "[10 rows x 24 columns]"
      ]
     },
     "execution_count": 17,
     "metadata": {},
     "output_type": "execute_result"
    }
   ],
   "source": [
    "loan_df.head(10)"
   ]
  },
  {
   "cell_type": "code",
   "execution_count": 18,
   "metadata": {},
   "outputs": [
    {
     "data": {
      "text/plain": [
       "39171"
      ]
     },
     "execution_count": 18,
     "metadata": {},
     "output_type": "execute_result"
    }
   ],
   "source": [
    "# total number of missing values \n",
    "np.count_nonzero(loan_df.isnull())"
   ]
  },
  {
   "cell_type": "code",
   "execution_count": 19,
   "metadata": {},
   "outputs": [
    {
     "data": {
      "text/plain": [
       "20"
      ]
     },
     "execution_count": 19,
     "metadata": {},
     "output_type": "execute_result"
    }
   ],
   "source": [
    "# total number of columns with missing values\n",
    "np.count_nonzero(np.any(loan_df.isnull(), axis = 0))"
   ]
  },
  {
   "cell_type": "code",
   "execution_count": 20,
   "metadata": {},
   "outputs": [
    {
     "data": {
      "text/plain": [
       "ADM_RATE_ALL         4949\n",
       "PCTPELL               748\n",
       "AGE_ENTRY             199\n",
       "PCPSYCH               730\n",
       "PCARCH                730\n",
       "PCEDU                 730\n",
       "PCENG_TECH            730\n",
       "PCLEGAL               730\n",
       "PCMATH                730\n",
       "PCSCI                 730\n",
       "PCART                 730\n",
       "PCHEALTH              730\n",
       "PCBUS                 730\n",
       "TUITIONFEE_IN        3111\n",
       "TUITIONFEE_OUT       3330\n",
       "SAT_AVG_ALL          5748\n",
       "PAR_ED_PCT_1STGEN     199\n",
       "DEBT_MDN               19\n",
       "ENDOWSTUD            6420\n",
       "top_50               7148\n",
       "dtype: int64"
      ]
     },
     "execution_count": 20,
     "metadata": {},
     "output_type": "execute_result"
    }
   ],
   "source": [
    "# find column names with nan values \n",
    "null_columns = loan_df.columns[loan_df.isnull().any()]\n",
    "loan_df[null_columns].isnull().sum()"
   ]
  },
  {
   "cell_type": "code",
   "execution_count": 21,
   "metadata": {},
   "outputs": [],
   "source": [
    "#replacing 'PrivacySuppressed' entries with Nan values\n",
    "objects=['DEBT_MDN','AGE_ENTRY', 'PAR_ED_PCT_1STGEN']\n",
    "for o in objects:\n",
    "    loan_df[o].replace(to_replace =['PrivacySuppressed'], value = np.nan , inplace=True)"
   ]
  },
  {
   "cell_type": "code",
   "execution_count": 22,
   "metadata": {},
   "outputs": [],
   "source": [
    "#deleting rows in ADM_RATE_ALL with Nan values\n",
    "loan_df.dropna(subset = ['ADM_RATE_ALL'], inplace=True)"
   ]
  },
  {
   "cell_type": "code",
   "execution_count": 23,
   "metadata": {},
   "outputs": [
    {
     "data": {
      "text/plain": [
       "(2226, 24)"
      ]
     },
     "execution_count": 23,
     "metadata": {},
     "output_type": "execute_result"
    }
   ],
   "source": [
    "loan_df.shape"
   ]
  },
  {
   "cell_type": "code",
   "execution_count": 24,
   "metadata": {},
   "outputs": [],
   "source": [
    "#stripping all whitespace strings in dataframe\n",
    "loan_df = loan_df.apply(lambda x: x.str.strip() if x.dtype == \"object\" else x)"
   ]
  },
  {
   "cell_type": "code",
   "execution_count": 25,
   "metadata": {},
   "outputs": [],
   "source": [
    "#convert objects to floats\n",
    "convert_dict = {'DEBT_MDN': float, \n",
    "                'AGE_ENTRY': float,\n",
    "                'PAR_ED_PCT_1STGEN': float,\n",
    "                'ENDOWSTUD': float\n",
    "               } \n",
    "  \n",
    "loan_df = loan_df.astype(convert_dict)"
   ]
  },
  {
   "cell_type": "code",
   "execution_count": 26,
   "metadata": {},
   "outputs": [
    {
     "data": {
      "text/plain": [
       "PCTPELL               128\n",
       "AGE_ENTRY              14\n",
       "PCPSYCH               123\n",
       "PCARCH                123\n",
       "PCEDU                 123\n",
       "PCENG_TECH            123\n",
       "PCLEGAL               123\n",
       "PCMATH                123\n",
       "PCSCI                 123\n",
       "PCART                 123\n",
       "PCHEALTH              123\n",
       "PCBUS                 123\n",
       "TUITIONFEE_IN         244\n",
       "TUITIONFEE_OUT        290\n",
       "SAT_AVG_ALL           799\n",
       "PAR_ED_PCT_1STGEN     216\n",
       "DEBT_MDN              113\n",
       "ENDOWSTUD            1546\n",
       "top_50               2199\n",
       "dtype: int64"
      ]
     },
     "execution_count": 26,
     "metadata": {},
     "output_type": "execute_result"
    }
   ],
   "source": [
    "# find column names with nan values \n",
    "null_columns = loan_df.columns[loan_df.isnull().any()]\n",
    "loan_df[null_columns].isnull().sum()"
   ]
  },
  {
   "cell_type": "code",
   "execution_count": 27,
   "metadata": {},
   "outputs": [],
   "source": [
    "loan_df.dropna(subset = ['SAT_AVG_ALL'], inplace=True)"
   ]
  },
  {
   "cell_type": "code",
   "execution_count": 28,
   "metadata": {},
   "outputs": [
    {
     "data": {
      "text/plain": [
       "PCTPELL                63\n",
       "PCPSYCH                62\n",
       "PCARCH                 62\n",
       "PCEDU                  62\n",
       "PCENG_TECH             62\n",
       "PCLEGAL                62\n",
       "PCMATH                 62\n",
       "PCSCI                  62\n",
       "PCART                  62\n",
       "PCHEALTH               62\n",
       "PCBUS                  62\n",
       "TUITIONFEE_IN          49\n",
       "TUITIONFEE_OUT         55\n",
       "PAR_ED_PCT_1STGEN      46\n",
       "DEBT_MDN                4\n",
       "ENDOWSTUD             860\n",
       "top_50               1403\n",
       "dtype: int64"
      ]
     },
     "execution_count": 28,
     "metadata": {},
     "output_type": "execute_result"
    }
   ],
   "source": [
    "# find column names with nan values \n",
    "null_columns = loan_df.columns[loan_df.isnull().any()]\n",
    "loan_df[null_columns].isnull().sum()"
   ]
  },
  {
   "cell_type": "code",
   "execution_count": 29,
   "metadata": {},
   "outputs": [],
   "source": [
    "loan_df.dropna(subset = ['DEBT_MDN'], inplace=True)"
   ]
  },
  {
   "cell_type": "code",
   "execution_count": 30,
   "metadata": {},
   "outputs": [],
   "source": [
    "loan_df.dropna(subset = ['PAR_ED_PCT_1STGEN'], inplace=True)"
   ]
  },
  {
   "cell_type": "code",
   "execution_count": 31,
   "metadata": {},
   "outputs": [
    {
     "name": "stdout",
     "output_type": "stream",
     "text": [
      "INSTNM\n",
      "Princeton University                     2951077.11\n",
      "Yale University                          2191267.54\n",
      "Stanford University                      1541160.49\n",
      "Harvard University                       1522103.85\n",
      "Pomona College                           1321353.28\n",
      "Massachusetts Institute of Technology    1315750.97\n",
      "Amherst College                          1255243.16\n",
      "Swarthmore College                       1207864.11\n",
      "Williams College                         1188428.82\n",
      "Grinnell College                         1119716.40\n",
      "Rice University                           872777.58\n",
      "Wellesley College                         807322.45\n",
      "Dartmouth College                         782398.42\n",
      "University of Notre Dame                  762463.39\n",
      "Berea College                             702295.67\n",
      "Name: ENDOWSTUD, dtype: float64\n"
     ]
    }
   ],
   "source": [
    "top_15_schools_with_endowment = loan_df.groupby(['INSTNM'])['ENDOWSTUD'].sum().sort_values(ascending = False).head(15)\n",
    "print(top_15_schools_with_endowment)"
   ]
  },
  {
   "cell_type": "code",
   "execution_count": 32,
   "metadata": {},
   "outputs": [
    {
     "data": {
      "text/plain": [
       "PCTPELL             63\n",
       "PCPSYCH             62\n",
       "PCARCH              62\n",
       "PCEDU               62\n",
       "PCENG_TECH          62\n",
       "PCLEGAL             62\n",
       "PCMATH              62\n",
       "PCSCI               62\n",
       "PCART               62\n",
       "PCHEALTH            62\n",
       "PCBUS               62\n",
       "TUITIONFEE_IN       49\n",
       "TUITIONFEE_OUT      55\n",
       "ENDOWSTUD          829\n",
       "top_50            1358\n",
       "dtype: int64"
      ]
     },
     "execution_count": 32,
     "metadata": {},
     "output_type": "execute_result"
    }
   ],
   "source": [
    "# find column names with nan values \n",
    "null_columns = loan_df.columns[loan_df.isnull().any()]\n",
    "loan_df[null_columns].isnull().sum()"
   ]
  },
  {
   "cell_type": "code",
   "execution_count": 33,
   "metadata": {},
   "outputs": [],
   "source": [
    "loan_df.dropna(subset = ['PCTPELL'], inplace=True)"
   ]
  },
  {
   "cell_type": "code",
   "execution_count": 34,
   "metadata": {},
   "outputs": [
    {
     "data": {
      "text/plain": [
       "(1316, 24)"
      ]
     },
     "execution_count": 34,
     "metadata": {},
     "output_type": "execute_result"
    }
   ],
   "source": [
    "loan_df.shape"
   ]
  },
  {
   "cell_type": "code",
   "execution_count": 35,
   "metadata": {},
   "outputs": [
    {
     "data": {
      "text/plain": [
       "TUITIONFEE_IN       11\n",
       "TUITIONFEE_OUT      11\n",
       "ENDOWSTUD          768\n",
       "top_50            1295\n",
       "dtype: int64"
      ]
     },
     "execution_count": 35,
     "metadata": {},
     "output_type": "execute_result"
    }
   ],
   "source": [
    "# find column names with nan values \n",
    "null_columns = loan_df.columns[loan_df.isnull().any()]\n",
    "loan_df[null_columns].isnull().sum()"
   ]
  },
  {
   "cell_type": "code",
   "execution_count": 36,
   "metadata": {},
   "outputs": [],
   "source": [
    "loan_df.dropna(subset = ['TUITIONFEE_IN'], inplace=True)"
   ]
  },
  {
   "cell_type": "code",
   "execution_count": 37,
   "metadata": {},
   "outputs": [],
   "source": [
    "loan_df['ENDOWSTUD'].fillna(0, inplace = True) "
   ]
  },
  {
   "cell_type": "code",
   "execution_count": 38,
   "metadata": {},
   "outputs": [],
   "source": [
    "loan_df['top_50'].fillna(0, inplace = True) "
   ]
  },
  {
   "cell_type": "code",
   "execution_count": 39,
   "metadata": {},
   "outputs": [
    {
     "name": "stdout",
     "output_type": "stream",
     "text": [
      "<class 'pandas.core.frame.DataFrame'>\n",
      "Int64Index: 1305 entries, 0 to 6734\n",
      "Data columns (total 24 columns):\n",
      "INSTNM               1305 non-null object\n",
      "STABBR               1305 non-null object\n",
      "ADM_RATE_ALL         1305 non-null float64\n",
      "ICLEVEL              1305 non-null int64\n",
      "PCTPELL              1305 non-null float64\n",
      "AGE_ENTRY            1305 non-null float64\n",
      "PCPSYCH              1305 non-null float64\n",
      "PCARCH               1305 non-null float64\n",
      "PCEDU                1305 non-null float64\n",
      "PCENG_TECH           1305 non-null float64\n",
      "PCLEGAL              1305 non-null float64\n",
      "PCMATH               1305 non-null float64\n",
      "PCSCI                1305 non-null float64\n",
      "PCART                1305 non-null float64\n",
      "PCHEALTH             1305 non-null float64\n",
      "PUB_PRIV             1305 non-null int64\n",
      "PCBUS                1305 non-null float64\n",
      "TUITIONFEE_IN        1305 non-null float64\n",
      "TUITIONFEE_OUT       1305 non-null float64\n",
      "SAT_AVG_ALL          1305 non-null float64\n",
      "PAR_ED_PCT_1STGEN    1305 non-null float64\n",
      "DEBT_MDN             1305 non-null float64\n",
      "ENDOWSTUD            1305 non-null float64\n",
      "top_50               1305 non-null float64\n",
      "dtypes: float64(20), int64(2), object(2)\n",
      "memory usage: 254.9+ KB\n"
     ]
    }
   ],
   "source": [
    "loan_df.info()"
   ]
  },
  {
   "cell_type": "code",
   "execution_count": 40,
   "metadata": {},
   "outputs": [
    {
     "data": {
      "text/plain": [
       "Series([], dtype: float64)"
      ]
     },
     "execution_count": 40,
     "metadata": {},
     "output_type": "execute_result"
    }
   ],
   "source": [
    "# find column names with nan values \n",
    "null_columns = loan_df.columns[loan_df.isnull().any()]\n",
    "loan_df[null_columns].isnull().sum()"
   ]
  },
  {
   "cell_type": "code",
   "execution_count": 41,
   "metadata": {},
   "outputs": [],
   "source": [
    "#Separate our features from our target\n",
    "\n",
    "X = loan_df.loc[:,['ADM_RATE_ALL', 'PCTPELL', 'AGE_ENTRY', \n",
    "                      'PCPSYCH', 'PCEDU', \n",
    "                      'PCENG_TECH', 'PUB_PRIV', 'PCBUS', \n",
    "                      'TUITIONFEE_IN','TUITIONFEE_OUT','SAT_AVG_ALL','ENDOWSTUD','top_50']]\n",
    "\n",
    "y = loan_df['DEBT_MDN']"
   ]
  },
  {
   "cell_type": "code",
   "execution_count": 42,
   "metadata": {},
   "outputs": [
    {
     "name": "stdout",
     "output_type": "stream",
     "text": [
      "<class 'pandas.core.frame.DataFrame'>\n",
      "Int64Index: 1305 entries, 0 to 6734\n",
      "Data columns (total 13 columns):\n",
      "ADM_RATE_ALL      1305 non-null float64\n",
      "PCTPELL           1305 non-null float64\n",
      "AGE_ENTRY         1305 non-null float64\n",
      "PCPSYCH           1305 non-null float64\n",
      "PCEDU             1305 non-null float64\n",
      "PCENG_TECH        1305 non-null float64\n",
      "PUB_PRIV          1305 non-null int64\n",
      "PCBUS             1305 non-null float64\n",
      "TUITIONFEE_IN     1305 non-null float64\n",
      "TUITIONFEE_OUT    1305 non-null float64\n",
      "SAT_AVG_ALL       1305 non-null float64\n",
      "ENDOWSTUD         1305 non-null float64\n",
      "top_50            1305 non-null float64\n",
      "dtypes: float64(12), int64(1)\n",
      "memory usage: 142.7 KB\n"
     ]
    }
   ],
   "source": [
    "X.info()"
   ]
  },
  {
   "cell_type": "markdown",
   "metadata": {},
   "source": [
    "### Cross Validation"
   ]
  },
  {
   "cell_type": "code",
   "execution_count": 43,
   "metadata": {},
   "outputs": [],
   "source": [
    "#Split the data 60 - 20 - 20 train/val/test\n",
    "from sklearn.model_selection import train_test_split\n",
    "\n",
    "X_train_val, X_test, y_train_val, y_test = train_test_split(X, y, test_size=0.2,random_state=42)\n",
    "X_train, X_val, y_train, y_val = train_test_split(X_train_val, y_train_val, test_size=.25, random_state=43)"
   ]
  },
  {
   "cell_type": "code",
   "execution_count": 44,
   "metadata": {},
   "outputs": [
    {
     "data": {
      "text/plain": [
       "Index(['ADM_RATE_ALL', 'PCTPELL', 'AGE_ENTRY', 'PCPSYCH', 'PCEDU',\n",
       "       'PCENG_TECH', 'PUB_PRIV', 'PCBUS', 'TUITIONFEE_IN', 'TUITIONFEE_OUT',\n",
       "       'SAT_AVG_ALL', 'ENDOWSTUD', 'top_50'],\n",
       "      dtype='object')"
      ]
     },
     "execution_count": 44,
     "metadata": {},
     "output_type": "execute_result"
    }
   ],
   "source": [
    "X_train.columns"
   ]
  },
  {
   "cell_type": "code",
   "execution_count": 45,
   "metadata": {},
   "outputs": [],
   "source": [
    "selected_columns = ['ADM_RATE_ALL', 'PCTPELL', 'AGE_ENTRY', \n",
    "                      'PCPSYCH', 'PCEDU', \n",
    "                      'PCENG_TECH', 'PUB_PRIV', 'PCBUS', \n",
    "                      'TUITIONFEE_IN','TUITIONFEE_OUT','SAT_AVG_ALL','ENDOWSTUD','top_50']\n"
   ]
  },
  {
   "cell_type": "code",
   "execution_count": 46,
   "metadata": {},
   "outputs": [
    {
     "name": "stdout",
     "output_type": "stream",
     "text": [
      "<class 'pandas.core.frame.DataFrame'>\n",
      "Int64Index: 783 entries, 2842 to 229\n",
      "Data columns (total 13 columns):\n",
      "ADM_RATE_ALL      783 non-null float64\n",
      "PCTPELL           783 non-null float64\n",
      "AGE_ENTRY         783 non-null float64\n",
      "PCPSYCH           783 non-null float64\n",
      "PCEDU             783 non-null float64\n",
      "PCENG_TECH        783 non-null float64\n",
      "PUB_PRIV          783 non-null int64\n",
      "PCBUS             783 non-null float64\n",
      "TUITIONFEE_IN     783 non-null float64\n",
      "TUITIONFEE_OUT    783 non-null float64\n",
      "SAT_AVG_ALL       783 non-null float64\n",
      "ENDOWSTUD         783 non-null float64\n",
      "top_50            783 non-null float64\n",
      "dtypes: float64(12), int64(1)\n",
      "memory usage: 85.6 KB\n"
     ]
    }
   ],
   "source": [
    "X_train.info()"
   ]
  },
  {
   "cell_type": "code",
   "execution_count": 47,
   "metadata": {},
   "outputs": [
    {
     "data": {
      "text/plain": [
       "Lasso(alpha=10000, copy_X=True, fit_intercept=True, max_iter=1000,\n",
       "      normalize=False, positive=False, precompute=False, random_state=None,\n",
       "      selection='cyclic', tol=0.0001, warm_start=False)"
      ]
     },
     "execution_count": 47,
     "metadata": {},
     "output_type": "execute_result"
    }
   ],
   "source": [
    "from sklearn.linear_model import LinearRegression, Lasso, LassoCV, Ridge, RidgeCV\n",
    "\n",
    "lasso_model = Lasso(alpha = 10000) # this is a VERY HIGH regularization strength!, wouldn't usually be used\n",
    "lasso_model.fit(X_train.loc[:,selected_columns], y_train)"
   ]
  },
  {
   "cell_type": "code",
   "execution_count": 48,
   "metadata": {},
   "outputs": [
    {
     "data": {
      "text/plain": [
       "[('ADM_RATE_ALL', 0.0),\n",
       " ('PCTPELL', -0.0),\n",
       " ('AGE_ENTRY', -0.0),\n",
       " ('PCPSYCH', -0.0),\n",
       " ('PCEDU', -0.0),\n",
       " ('PCENG_TECH', 0.0),\n",
       " ('PUB_PRIV', 0.0),\n",
       " ('PCBUS', -0.0),\n",
       " ('TUITIONFEE_IN', 0.09914565924310967),\n",
       " ('TUITIONFEE_OUT', 0.1387244427069504),\n",
       " ('SAT_AVG_ALL', 2.1540222249241627),\n",
       " ('ENDOWSTUD', -0.009385108289691586),\n",
       " ('top_50', 0.0)]"
      ]
     },
     "execution_count": 48,
     "metadata": {},
     "output_type": "execute_result"
    }
   ],
   "source": [
    "list(zip(selected_columns, lasso_model.coef_))"
   ]
  },
  {
   "cell_type": "code",
   "execution_count": 49,
   "metadata": {},
   "outputs": [],
   "source": [
    "X_train_collinear = X_train.loc[:,selected_columns]"
   ]
  },
  {
   "cell_type": "code",
   "execution_count": 50,
   "metadata": {},
   "outputs": [
    {
     "data": {
      "text/plain": [
       "[('ADM_RATE_ALL', -1.7401416968052275e-08),\n",
       " ('PCTPELL', -1.213149504025441e-07),\n",
       " ('AGE_ENTRY', -1.8426957593970523e-06),\n",
       " ('PCPSYCH', 4.4046857734488675e-09),\n",
       " ('PCEDU', -1.8371503456922286e-08),\n",
       " ('PCENG_TECH', -6.0995912839128744e-09),\n",
       " ('PUB_PRIV', -4.572813684758899e-07),\n",
       " ('PCBUS', 4.76088996585057e-09),\n",
       " ('TUITIONFEE_IN', 0.01997808008761517),\n",
       " ('TUITIONFEE_OUT', 0.016017613061856707),\n",
       " ('SAT_AVG_ALL', 0.00010320388944908651),\n",
       " ('ENDOWSTUD', -0.001926503324752421),\n",
       " ('top_50', -1.7969248480699483e-08)]"
      ]
     },
     "execution_count": 50,
     "metadata": {},
     "output_type": "execute_result"
    }
   ],
   "source": [
    "lr_model_ridge = Ridge(alpha = 1000000000000)\n",
    "lr_model_ridge.fit(X_train_collinear, y_train)\n",
    "\n",
    "list(zip(X_train_collinear.columns, lr_model_ridge.coef_))"
   ]
  },
  {
   "cell_type": "code",
   "execution_count": 51,
   "metadata": {},
   "outputs": [
    {
     "data": {
      "text/plain": [
       "[('ADM_RATE_ALL', 0.0),\n",
       " ('PCTPELL', -0.0),\n",
       " ('AGE_ENTRY', -0.0),\n",
       " ('PCPSYCH', -0.0),\n",
       " ('PCEDU', -0.0),\n",
       " ('PCENG_TECH', 0.0),\n",
       " ('PUB_PRIV', 0.0),\n",
       " ('PCBUS', -0.0),\n",
       " ('TUITIONFEE_IN', 0.0874254270301279),\n",
       " ('TUITIONFEE_OUT', 0.16349162914508064),\n",
       " ('SAT_AVG_ALL', 0.0),\n",
       " ('ENDOWSTUD', -0.00875928216879823),\n",
       " ('top_50', 0.0)]"
      ]
     },
     "execution_count": 51,
     "metadata": {},
     "output_type": "execute_result"
    }
   ],
   "source": [
    "lr_model_lasso = Lasso(alpha = 100000)\n",
    "lr_model_lasso.fit(X_train_collinear, y_train)\n",
    "\n",
    "list(zip(X_train_collinear.columns, lr_model_lasso.coef_))"
   ]
  },
  {
   "cell_type": "code",
   "execution_count": 52,
   "metadata": {},
   "outputs": [],
   "source": [
    "from sklearn.pipeline import Pipeline\n",
    "from sklearn.preprocessing import StandardScaler"
   ]
  },
  {
   "cell_type": "code",
   "execution_count": 53,
   "metadata": {},
   "outputs": [
    {
     "data": {
      "text/plain": [
       "StandardScaler(copy=True, with_mean=True, with_std=True)"
      ]
     },
     "execution_count": 53,
     "metadata": {},
     "output_type": "execute_result"
    }
   ],
   "source": [
    "std = StandardScaler()\n",
    "std.fit(X_train.values)"
   ]
  },
  {
   "cell_type": "code",
   "execution_count": 54,
   "metadata": {},
   "outputs": [],
   "source": [
    "X_tr = std.transform(X_train.values)"
   ]
  },
  {
   "cell_type": "code",
   "execution_count": 55,
   "metadata": {},
   "outputs": [],
   "source": [
    "X_te = std.transform(X_test.values)"
   ]
  },
  {
   "cell_type": "code",
   "execution_count": 56,
   "metadata": {},
   "outputs": [
    {
     "data": {
      "text/plain": [
       "(pandas.core.frame.DataFrame, numpy.ndarray)"
      ]
     },
     "execution_count": 56,
     "metadata": {},
     "output_type": "execute_result"
    }
   ],
   "source": [
    "type(X_train), type(X_tr)"
   ]
  },
  {
   "cell_type": "code",
   "execution_count": 57,
   "metadata": {},
   "outputs": [
    {
     "data": {
      "text/plain": [
       "(array([365., 323.,  68.,  14.,   8.,   3.,   1.,   0.,   0.,   1.]),\n",
       " array([-1.26586833, -0.18469157,  0.89648519,  1.97766195,  3.05883872,\n",
       "         4.14001548,  5.22119224,  6.302369  ,  7.38354576,  8.46472252,\n",
       "         9.54589928]),\n",
       " <a list of 10 Patch objects>)"
      ]
     },
     "execution_count": 57,
     "metadata": {},
     "output_type": "execute_result"
    },
    {
     "data": {
      "image/png": "[encoded data removed]",
      "text/plain": [
       "<Figure size 432x288 with 1 Axes>"
      ]
     },
     "metadata": {
      "needs_background": "light"
     },
     "output_type": "display_data"
    }
   ],
   "source": [
    "plt.hist(X_tr[:,3])"
   ]
  },
  {
   "cell_type": "code",
   "execution_count": 58,
   "metadata": {},
   "outputs": [
    {
     "data": {
      "text/plain": [
       "Lasso(alpha=10000, copy_X=True, fit_intercept=True, max_iter=1000,\n",
       "      normalize=False, positive=False, precompute=False, random_state=None,\n",
       "      selection='cyclic', tol=0.0001, warm_start=False)"
      ]
     },
     "execution_count": 58,
     "metadata": {},
     "output_type": "execute_result"
    }
   ],
   "source": [
    "lasso_model = Lasso(alpha = 10000)\n",
    "lasso_model.fit(X_tr,y_train)"
   ]
  },
  {
   "cell_type": "code",
   "execution_count": 59,
   "metadata": {},
   "outputs": [
    {
     "data": {
      "text/plain": [
       "[('ADM_RATE_ALL', -0.0),\n",
       " ('PCTPELL', -0.0),\n",
       " ('AGE_ENTRY', -0.0),\n",
       " ('PCPSYCH', 0.0),\n",
       " ('PCEDU', -0.0),\n",
       " ('PCENG_TECH', -0.0),\n",
       " ('PUB_PRIV', -0.0),\n",
       " ('PCBUS', 0.0),\n",
       " ('TUITIONFEE_IN', 0.0),\n",
       " ('TUITIONFEE_OUT', 0.0),\n",
       " ('SAT_AVG_ALL', 0.0),\n",
       " ('ENDOWSTUD', -0.0),\n",
       " ('top_50', -0.0)]"
      ]
     },
     "execution_count": 59,
     "metadata": {},
     "output_type": "execute_result"
    }
   ],
   "source": [
    "list(zip(X_train.columns, lasso_model.coef_))"
   ]
  }
 ],
 "metadata": {
  "kernelspec": {
   "display_name": "Python [conda env:metis] *",
   "language": "python",
   "name": "conda-env-metis-py"
  },
  "language_info": {
   "codemirror_mode": {
    "name": "ipython",
    "version": 3
   },
   "file_extension": ".py",
   "mimetype": "text/x-python",
   "name": "python",
   "nbconvert_exporter": "python",
   "pygments_lexer": "ipython3",
   "version": "3.6.9"
  }
 },
 "nbformat": 4,
 "nbformat_minor": 2
}
