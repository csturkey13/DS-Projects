{
 "cells": [
  {
   "cell_type": "code",
   "execution_count": 64,
   "metadata": {},
   "outputs": [],
   "source": [
    "from __future__ import print_function, division\n",
    "import pickle\n",
    "from bs4 import BeautifulSoup as soup\n",
    "from urllib.request import Request, urlopen"
   ]
  },
  {
   "cell_type": "code",
   "execution_count": 65,
   "metadata": {},
   "outputs": [
    {
     "data": {
      "text/plain": [
       "['/anaconda3/envs/metis/lib/python3.6/site-packages/requests']"
      ]
     },
     "execution_count": 65,
     "metadata": {},
     "output_type": "execute_result"
    }
   ],
   "source": [
    "import requests\n",
    "\n",
    "requests.__path__"
   ]
  },
  {
   "cell_type": "code",
   "execution_count": 92,
   "metadata": {},
   "outputs": [],
   "source": [
    "url = \"https://www.cnbc.com/2019/07/16/cnbc-make-it-the-top-50-us-colleges-that-pay-off-the-most-2019.html\"\n",
    "\n",
    "req = Request(url,headers ={'User-Agent': 'Mozilla/5.0'})"
   ]
  },
  {
   "cell_type": "code",
   "execution_count": 93,
   "metadata": {},
   "outputs": [],
   "source": [
    "webpage = urlopen(req).read()"
   ]
  },
  {
   "cell_type": "code",
   "execution_count": 94,
   "metadata": {},
   "outputs": [],
   "source": [
    "page_soup = soup(webpage, \"html.parser\")"
   ]
  },
  {
   "cell_type": "code",
   "execution_count": 98,
   "metadata": {},
   "outputs": [
    {
     "data": {
      "text/plain": [
       "<p>Definitive Guide to College</p>"
      ]
     },
     "execution_count": 98,
     "metadata": {},
     "output_type": "execute_result"
    }
   ],
   "source": [
    "page_soup.p"
   ]
  },
  {
   "cell_type": "code",
   "execution_count": 139,
   "metadata": {},
   "outputs": [],
   "source": [
    "#grabs each college\n",
    "rank = page_soup.findAll(\"h2\",{\"class\":\"ArticleBody-styles-makeit-subtitle--363ca\"})"
   ]
  },
  {
   "cell_type": "code",
   "execution_count": 140,
   "metadata": {},
   "outputs": [
    {
     "data": {
      "text/plain": [
       "52"
      ]
     },
     "execution_count": 140,
     "metadata": {},
     "output_type": "execute_result"
    }
   ],
   "source": [
    "len(rank)"
   ]
  },
  {
   "cell_type": "code",
   "execution_count": 163,
   "metadata": {},
   "outputs": [
    {
     "name": "stdout",
     "output_type": "stream",
     "text": [
      "The top 25 private universities\n",
      "1. Stanford University\n",
      "2. Princeton University\n",
      "3. University of Chicago\n",
      "4. California Institute of Technology\n",
      "5. Harvard University\n",
      "6. Yale University\n",
      "7. Columbia University\n",
      "8. Massachusetts Institute of Technology\n",
      "9. Pomona College\n",
      "10. Duke University\n",
      "11. Washington and Lee University\n",
      "12. Vanderbilt University\n",
      "13. Dartmouth College\n",
      "14. Olin College of Engineering\n",
      "15. Rice University\n",
      "16. Williams College\n",
      "17. University of Pennsylvania\n",
      "18. Bowdoin College\n",
      "19. Webb Institute\n",
      "20. Brown University\n",
      "21. Haverford College\n",
      "22. Swarthmore College\n",
      "23. The Cooper Union for the Advancement of Science and Art\n",
      "24. Bates College\n",
      "25. Wesleyan University\n",
      "The top 25 public universities\n",
      "1. University of Washington, Seattle\n",
      "2. University of Washington, Bothell\n",
      "3. Massachusetts Maritime Academy\n",
      "4. University of Michigan, Ann Arbor\n",
      "5. Georgia Institute of Technology, Atlanta\n",
      "6. Purdue University, West Lafayette\n",
      "7. William & Mary\n",
      "8. Michigan Technological University\n",
      "9. University of California, Los Angeles\n",
      "10. Baruch College\n",
      "11. University of California, San Diego\n",
      "12. University of California, Riverside\n",
      "13. New Mexico Institute of Mining and Technology\n",
      "14. Missouri University of Science and Technology\n",
      "15. University of California, Irvine\n",
      "16. Montana Tech\n",
      "17. California State University Maritime Academy (tie)\n",
      "17. University of Virginia, Charlottesville (tie)\n",
      "19. University of California, Santa Barbara\n",
      "20. California State Polytechnic University, Pomona\n",
      "21. University of California, Davis\n",
      "22. North Carolina State University, Raleigh\n",
      "23. SUNY Maritime College\n",
      "24. University of Delaware, Newark\n",
      "25. University of California, Berkeley\n"
     ]
    }
   ],
   "source": [
    "for i in range(len(rank)):\n",
    "    print(rank[i].text)"
   ]
  },
  {
   "cell_type": "code",
   "execution_count": null,
   "metadata": {},
   "outputs": [],
   "source": []
  },
  {
   "cell_type": "code",
   "execution_count": null,
   "metadata": {},
   "outputs": [],
   "source": []
  },
  {
   "cell_type": "code",
   "execution_count": 4,
   "metadata": {},
   "outputs": [
    {
     "data": {
      "text/plain": [
       "requests.models.Response"
      ]
     },
     "execution_count": 4,
     "metadata": {},
     "output_type": "execute_result"
    }
   ],
   "source": [
    "type(response)"
   ]
  },
  {
   "cell_type": "code",
   "execution_count": 5,
   "metadata": {},
   "outputs": [
    {
     "data": {
      "text/plain": [
       "'<HTML><HEAD>\\n<TITLE>Access Denied</TITLE>\\n</HEAD><BODY>\\n<H1>Access Denied</H1>\\n \\nYou don\\'t have permission to access \"http&#58;&#47;&#47;www&#46;usnews&#46;com&#47;best&#45;colleges&#47;rankings&#47;national&#45;universities&#63;\" on this server.<P>\\nReference&#32;&#35;18&#46;855832b8&#46;1570166903&#46;45ed0ba\\n</BODY>\\n</HTML>\\n'"
      ]
     },
     "execution_count": 5,
     "metadata": {},
     "output_type": "execute_result"
    }
   ],
   "source": [
    "response.text"
   ]
  },
  {
   "cell_type": "code",
   "execution_count": null,
   "metadata": {},
   "outputs": [],
   "source": []
  }
 ],
 "metadata": {
  "kernelspec": {
   "display_name": "Python [conda env:metis] *",
   "language": "python",
   "name": "conda-env-metis-py"
  },
  "language_info": {
   "codemirror_mode": {
    "name": "ipython",
    "version": 3
   },
   "file_extension": ".py",
   "mimetype": "text/x-python",
   "name": "python",
   "nbconvert_exporter": "python",
   "pygments_lexer": "ipython3",
   "version": "3.6.9"
  }
 },
 "nbformat": 4,
 "nbformat_minor": 2
}
