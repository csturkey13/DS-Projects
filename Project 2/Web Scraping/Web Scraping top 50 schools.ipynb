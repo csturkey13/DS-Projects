{
 "cells": [
  {
   "cell_type": "code",
   "execution_count": 1,
   "metadata": {},
   "outputs": [],
   "source": [
    "from __future__ import print_function, division\n",
    "import pickle\n",
    "from bs4 import BeautifulSoup as soup\n",
    "from urllib.request import Request, urlopen\n",
    "import pandas as pd\n",
    "import numpy as np"
   ]
  },
  {
   "cell_type": "code",
   "execution_count": 2,
   "metadata": {},
   "outputs": [
    {
     "data": {
      "text/plain": [
       "['/anaconda3/envs/metis/lib/python3.6/site-packages/requests']"
      ]
     },
     "execution_count": 2,
     "metadata": {},
     "output_type": "execute_result"
    }
   ],
   "source": [
    "import requests\n",
    "\n",
    "requests.__path__"
   ]
  },
  {
   "cell_type": "code",
   "execution_count": 3,
   "metadata": {},
   "outputs": [],
   "source": [
    "url = \"https://www.cnbc.com/2019/07/16/cnbc-make-it-the-top-50-us-colleges-that-pay-off-the-most-2019.html\"\n",
    "\n",
    "req = Request(url,headers ={'User-Agent': 'Mozilla/5.0'})"
   ]
  },
  {
   "cell_type": "code",
   "execution_count": 4,
   "metadata": {},
   "outputs": [],
   "source": [
    "webpage = urlopen(req).read()"
   ]
  },
  {
   "cell_type": "code",
   "execution_count": 5,
   "metadata": {},
   "outputs": [],
   "source": [
    "page_soup = soup(webpage, \"html.parser\")"
   ]
  },
  {
   "cell_type": "code",
   "execution_count": 6,
   "metadata": {},
   "outputs": [
    {
     "data": {
      "text/plain": [
       "<p>Definitive Guide to College</p>"
      ]
     },
     "execution_count": 6,
     "metadata": {},
     "output_type": "execute_result"
    }
   ],
   "source": [
    "page_soup.p"
   ]
  },
  {
   "cell_type": "code",
   "execution_count": 7,
   "metadata": {},
   "outputs": [],
   "source": [
    "#grabs each college\n",
    "rank = page_soup.findAll(\"h2\",{\"class\":\"ArticleBody-styles-makeit-subtitle--363ca\"})"
   ]
  },
  {
   "cell_type": "code",
   "execution_count": 8,
   "metadata": {},
   "outputs": [
    {
     "data": {
      "text/plain": [
       "52"
      ]
     },
     "execution_count": 8,
     "metadata": {},
     "output_type": "execute_result"
    }
   ],
   "source": [
    "len(rank)"
   ]
  },
  {
   "cell_type": "code",
   "execution_count": 9,
   "metadata": {},
   "outputs": [],
   "source": [
    "INSTNM = []\n",
    "\n",
    "for i in range(1, len(rank)):\n",
    "    INSTNM.append(rank[i].text.split('. ')[-1])"
   ]
  },
  {
   "cell_type": "code",
   "execution_count": 10,
   "metadata": {},
   "outputs": [
    {
     "data": {
      "text/plain": [
       "['Stanford University',\n",
       " 'Princeton University',\n",
       " 'University of Chicago',\n",
       " 'California Institute of Technology',\n",
       " 'Harvard University',\n",
       " 'Yale University',\n",
       " 'Columbia University',\n",
       " 'Massachusetts Institute of Technology',\n",
       " 'Pomona College',\n",
       " 'Duke University',\n",
       " 'Washington and Lee University',\n",
       " 'Vanderbilt University',\n",
       " 'Dartmouth College',\n",
       " 'Olin College of Engineering',\n",
       " 'Rice University',\n",
       " 'Williams College',\n",
       " 'University of Pennsylvania',\n",
       " 'Bowdoin College',\n",
       " 'Webb Institute',\n",
       " 'Brown University',\n",
       " 'Haverford College',\n",
       " 'Swarthmore College',\n",
       " 'The Cooper Union for the Advancement of Science and Art',\n",
       " 'Bates College',\n",
       " 'Wesleyan University',\n",
       " 'The top 25 public universities',\n",
       " 'University of Washington, Seattle',\n",
       " 'University of Washington, Bothell',\n",
       " 'Massachusetts Maritime Academy',\n",
       " 'University of Michigan, Ann Arbor',\n",
       " 'Georgia Institute of Technology, Atlanta',\n",
       " 'Purdue University, West Lafayette',\n",
       " 'William & Mary',\n",
       " 'Michigan Technological University',\n",
       " 'University of California, Los Angeles',\n",
       " 'Baruch College',\n",
       " 'University of California, San Diego',\n",
       " 'University of California, Riverside',\n",
       " 'New Mexico Institute of Mining and Technology',\n",
       " 'Missouri University of Science and Technology',\n",
       " 'University of California, Irvine',\n",
       " 'Montana Tech',\n",
       " 'California State University Maritime Academy (tie)',\n",
       " 'University of Virginia, Charlottesville (tie)',\n",
       " 'University of California, Santa Barbara',\n",
       " 'California State Polytechnic University, Pomona',\n",
       " 'University of California, Davis',\n",
       " 'North Carolina State University, Raleigh',\n",
       " 'SUNY Maritime College',\n",
       " 'University of Delaware, Newark',\n",
       " 'University of California, Berkeley']"
      ]
     },
     "execution_count": 10,
     "metadata": {},
     "output_type": "execute_result"
    }
   ],
   "source": [
    "INSTNM"
   ]
  },
  {
   "cell_type": "code",
   "execution_count": 11,
   "metadata": {},
   "outputs": [],
   "source": [
    "private_ranks = []\n",
    "\n",
    "for i in range(1, 26):\n",
    "    private_ranks.append(rank[i].text.split('. ')[-1])\n",
    "    \n",
    "public_ranks = []\n",
    "\n",
    "for i in range(27, len(rank)):\n",
    "    public_ranks.append(rank[i].text.split('. ')[-1])"
   ]
  },
  {
   "cell_type": "code",
   "execution_count": 12,
   "metadata": {},
   "outputs": [
    {
     "data": {
      "text/plain": [
       "[('Stanford University', 'University of Washington, Seattle'),\n",
       " ('Princeton University', 'University of Washington, Bothell'),\n",
       " ('University of Chicago', 'Massachusetts Maritime Academy'),\n",
       " ('California Institute of Technology', 'University of Michigan, Ann Arbor'),\n",
       " ('Harvard University', 'Georgia Institute of Technology, Atlanta'),\n",
       " ('Yale University', 'Purdue University, West Lafayette'),\n",
       " ('Columbia University', 'William & Mary'),\n",
       " ('Massachusetts Institute of Technology',\n",
       "  'Michigan Technological University'),\n",
       " ('Pomona College', 'University of California, Los Angeles'),\n",
       " ('Duke University', 'Baruch College'),\n",
       " ('Washington and Lee University', 'University of California, San Diego'),\n",
       " ('Vanderbilt University', 'University of California, Riverside'),\n",
       " ('Dartmouth College', 'New Mexico Institute of Mining and Technology'),\n",
       " ('Olin College of Engineering',\n",
       "  'Missouri University of Science and Technology'),\n",
       " ('Rice University', 'University of California, Irvine'),\n",
       " ('Williams College', 'Montana Tech'),\n",
       " ('University of Pennsylvania',\n",
       "  'California State University Maritime Academy (tie)'),\n",
       " ('Bowdoin College', 'University of Virginia, Charlottesville (tie)'),\n",
       " ('Webb Institute', 'University of California, Santa Barbara'),\n",
       " ('Brown University', 'California State Polytechnic University, Pomona'),\n",
       " ('Haverford College', 'University of California, Davis'),\n",
       " ('Swarthmore College', 'North Carolina State University, Raleigh'),\n",
       " ('The Cooper Union for the Advancement of Science and Art',\n",
       "  'SUNY Maritime College'),\n",
       " ('Bates College', 'University of Delaware, Newark'),\n",
       " ('Wesleyan University', 'University of California, Berkeley')]"
      ]
     },
     "execution_count": 12,
     "metadata": {},
     "output_type": "execute_result"
    }
   ],
   "source": [
    "list(zip(private_ranks, public_ranks))"
   ]
  },
  {
   "cell_type": "code",
   "execution_count": 17,
   "metadata": {},
   "outputs": [],
   "source": [
    "my_df = pd.DataFrame(INSTNM, columns = ['INSTNM'])"
   ]
  },
  {
   "cell_type": "code",
   "execution_count": 18,
   "metadata": {},
   "outputs": [],
   "source": [
    "my_df['top_50'] = '1'"
   ]
  },
  {
   "cell_type": "code",
   "execution_count": 19,
   "metadata": {},
   "outputs": [
    {
     "data": {
      "text/html": [
       "<div>\n",
       "<style scoped>\n",
       "    .dataframe tbody tr th:only-of-type {\n",
       "        vertical-align: middle;\n",
       "    }\n",
       "\n",
       "    .dataframe tbody tr th {\n",
       "        vertical-align: top;\n",
       "    }\n",
       "\n",
       "    .dataframe thead th {\n",
       "        text-align: right;\n",
       "    }\n",
       "</style>\n",
       "<table border=\"1\" class=\"dataframe\">\n",
       "  <thead>\n",
       "    <tr style=\"text-align: right;\">\n",
       "      <th></th>\n",
       "      <th>INSTNM</th>\n",
       "      <th>top_50</th>\n",
       "    </tr>\n",
       "  </thead>\n",
       "  <tbody>\n",
       "    <tr>\n",
       "      <td>0</td>\n",
       "      <td>Stanford University</td>\n",
       "      <td>1</td>\n",
       "    </tr>\n",
       "    <tr>\n",
       "      <td>1</td>\n",
       "      <td>Princeton University</td>\n",
       "      <td>1</td>\n",
       "    </tr>\n",
       "    <tr>\n",
       "      <td>2</td>\n",
       "      <td>University of Chicago</td>\n",
       "      <td>1</td>\n",
       "    </tr>\n",
       "    <tr>\n",
       "      <td>3</td>\n",
       "      <td>California Institute of Technology</td>\n",
       "      <td>1</td>\n",
       "    </tr>\n",
       "    <tr>\n",
       "      <td>4</td>\n",
       "      <td>Harvard University</td>\n",
       "      <td>1</td>\n",
       "    </tr>\n",
       "  </tbody>\n",
       "</table>\n",
       "</div>"
      ],
      "text/plain": [
       "                               INSTNM top_50\n",
       "0                 Stanford University      1\n",
       "1                Princeton University      1\n",
       "2               University of Chicago      1\n",
       "3  California Institute of Technology      1\n",
       "4                  Harvard University      1"
      ]
     },
     "execution_count": 19,
     "metadata": {},
     "output_type": "execute_result"
    }
   ],
   "source": [
    "my_df.head()"
   ]
  },
  {
   "cell_type": "code",
   "execution_count": 20,
   "metadata": {},
   "outputs": [],
   "source": [
    "my_df.to_csv('top_50.csv', index=False, header=True)"
   ]
  }
 ],
 "metadata": {
  "kernelspec": {
   "display_name": "Python [conda env:metis] *",
   "language": "python",
   "name": "conda-env-metis-py"
  },
  "language_info": {
   "codemirror_mode": {
    "name": "ipython",
    "version": 3
   },
   "file_extension": ".py",
   "mimetype": "text/x-python",
   "name": "python",
   "nbconvert_exporter": "python",
   "pygments_lexer": "ipython3",
   "version": "3.6.9"
  }
 },
 "nbformat": 4,
 "nbformat_minor": 2
}
